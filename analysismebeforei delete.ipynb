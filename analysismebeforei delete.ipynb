{
 "cells": [
  {
   "cell_type": "code",
   "execution_count": 1,
   "metadata": {},
   "outputs": [
    {
     "ename": "ModuleNotFoundError",
     "evalue": "No module named 'sqlalchemy'",
     "output_type": "error",
     "traceback": [
      "\u001b[0;31m---------------------------------------------------------------------------\u001b[0m",
      "\u001b[0;31mModuleNotFoundError\u001b[0m                       Traceback (most recent call last)",
      "Cell \u001b[0;32mIn[1], line 1\u001b[0m\n\u001b[0;32m----> 1\u001b[0m \u001b[38;5;28;01mfrom\u001b[39;00m \u001b[38;5;21;01msqlalchemy\u001b[39;00m \u001b[38;5;28;01mimport\u001b[39;00m create_engine\n\u001b[1;32m      2\u001b[0m \u001b[38;5;28;01mimport\u001b[39;00m \u001b[38;5;21;01mpandas\u001b[39;00m \u001b[38;5;28;01mas\u001b[39;00m \u001b[38;5;21;01mpd\u001b[39;00m\n\u001b[1;32m      4\u001b[0m \u001b[38;5;66;03m# Create a SQLAlchemy engine\u001b[39;00m\n",
      "\u001b[0;31mModuleNotFoundError\u001b[0m: No module named 'sqlalchemy'"
     ]
    }
   ],
   "source": [
    "from sqlalchemy import create_engine\n",
    "import pandas as pd\n",
    "\n",
    "# Create a SQLAlchemy engine\n",
    "engine = create_engine('sqlite:///social_media_data.db')\n",
    "\n",
    "# Define the file paths\n",
    "file_path1 = \"/Users/NP/Documents/Project-3/Social Media Pouparity 2009-2023/data/social_media-US-monthly-200904-202312.csv\"\n",
    "file_path2 = \"/Users/NP/Documents/Project-3/Social Media Pouparity 2009-2023/data/google_trends_social_media_data.csv\"\n",
    "\n",
    "# Read the CSV files into dataframes\n",
    "df1 = pd.read_csv(file_path1)\n",
    "df2 = pd.read_csv(file_path2)\n",
    "\n",
    "# Write the dataframes to SQLite tables\n",
    "df1.to_sql('us_social_media', engine, if_exists='replace', index=False)\n",
    "df2.to_sql('google_trends', engine, if_exists='replace', index=False)"
   ]
  },
  {
   "cell_type": "code",
   "execution_count": null,
   "metadata": {},
   "outputs": [
    {
     "name": "stdout",
     "output_type": "stream",
     "text": [
      "      Date  Facebook  Pinterest  Twitter  StumbleUpon  reddit  Tumblr  \\\n",
      "0  2009-04     12.89        0.0     6.69        42.45    9.83     0.0   \n",
      "1  2009-05     15.88        0.0    10.45        42.55    9.10     0.0   \n",
      "2  2009-06     17.02        0.0    11.25        38.08   14.80     0.0   \n",
      "3  2009-07     19.08        0.0    10.55        43.41   11.64     0.0   \n",
      "4  2009-08     24.45        0.0    11.37        38.84   11.85     0.0   \n",
      "\n",
      "   YouTube  Instagram  LinkedIn  Digg  MySpace  Fark  Google+  NowPublic  \\\n",
      "0      0.0        0.0      0.00  6.02    19.04  0.30      0.0       0.03   \n",
      "1      0.0        0.0      0.27  6.85    11.06  0.65      0.0       0.04   \n",
      "2      0.0        0.0      0.50  5.17     9.46  1.03      0.0       0.05   \n",
      "3      0.0        0.0      0.40  5.05     6.86  0.34      0.0       0.05   \n",
      "4      0.0        0.0      0.45  3.92     5.85  0.64      0.0       0.08   \n",
      "\n",
      "   news.ycombinator.com  Delicious  VKontakte  Vimeo  Other  \n",
      "0                  0.08       0.38        0.0    0.0   2.30  \n",
      "1                  0.12       0.46        0.0    0.0   2.57  \n",
      "2                  0.12       0.47        0.0    0.0   2.06  \n",
      "3                  0.15       0.43        0.0    0.0   2.04  \n",
      "4                  0.09       0.41        0.0    0.0   2.06  \n",
      "         date  Facebook  Instagram  TikTok  Twitter  Snapchat  isPartial\n",
      "0  2009-01-31      27.0        0.0     0.0      0.0       0.0        0.0\n",
      "1  2009-02-28      28.0        0.0     0.0      0.0       0.0        0.0\n",
      "2  2009-03-31      30.0        0.0     0.0      1.0       0.0        0.0\n",
      "3  2009-04-30      33.0        0.0     0.0      1.0       0.0        0.0\n",
      "4  2009-05-31      35.0        0.0     0.0      1.0       0.0        0.0\n"
     ]
    }
   ],
   "source": [
    "# Select all records from the 'us_social_media' table\n",
    "df1 = pd.read_sql_query(\"SELECT * FROM us_social_media\", engine)\n",
    "\n",
    "# Select all records from the 'google_trends' table\n",
    "df2 = pd.read_sql_query(\"SELECT * FROM google_trends\", engine)\n",
    "\n",
    "# Print the first 5 rows of each dataframe\n",
    "print(df1.head())\n",
    "print(df2.head())"
   ]
  },
  {
   "cell_type": "code",
   "execution_count": null,
   "metadata": {},
   "outputs": [
    {
     "name": "stdout",
     "output_type": "stream",
     "text": [
      "      Date  Facebook  Pinterest  Twitter  StumbleUpon  reddit  Tumblr  \\\n",
      "0  2009-04     12.89        0.0     6.69        42.45    9.83     0.0   \n",
      "1  2009-05     15.88        0.0    10.45        42.55    9.10     0.0   \n",
      "2  2009-06     17.02        0.0    11.25        38.08   14.80     0.0   \n",
      "3  2009-07     19.08        0.0    10.55        43.41   11.64     0.0   \n",
      "4  2009-08     24.45        0.0    11.37        38.84   11.85     0.0   \n",
      "\n",
      "   YouTube  Instagram  LinkedIn  Digg  MySpace  Fark  Google+  NowPublic  \\\n",
      "0      0.0        0.0      0.00  6.02    19.04  0.30      0.0       0.03   \n",
      "1      0.0        0.0      0.27  6.85    11.06  0.65      0.0       0.04   \n",
      "2      0.0        0.0      0.50  5.17     9.46  1.03      0.0       0.05   \n",
      "3      0.0        0.0      0.40  5.05     6.86  0.34      0.0       0.05   \n",
      "4      0.0        0.0      0.45  3.92     5.85  0.64      0.0       0.08   \n",
      "\n",
      "   news.ycombinator.com  Delicious  VKontakte  Vimeo  Other  \n",
      "0                  0.08       0.38        0.0    0.0   2.30  \n",
      "1                  0.12       0.46        0.0    0.0   2.57  \n",
      "2                  0.12       0.47        0.0    0.0   2.06  \n",
      "3                  0.15       0.43        0.0    0.0   2.04  \n",
      "4                  0.09       0.41        0.0    0.0   2.06  \n",
      "         Facebook   Pinterest     Twitter  StumbleUpon      reddit  \\\n",
      "count  177.000000  177.000000  177.000000   177.000000  177.000000   \n",
      "mean    55.872542   15.872203    8.541073     9.106271    2.844576   \n",
      "std     13.657312   10.193749    4.485564    14.608980    2.548213   \n",
      "min     12.890000    0.000000    2.300000     0.000000    0.450000   \n",
      "25%     47.960000    9.950000    5.580000     0.000000    0.920000   \n",
      "50%     52.670000   16.740000    7.030000     1.130000    1.930000   \n",
      "75%     68.860000   22.570000   10.170000     9.820000    4.640000   \n",
      "max     79.280000   37.260000   25.690000    51.500000   14.800000   \n",
      "\n",
      "           Tumblr     YouTube   Instagram    LinkedIn        Digg     MySpace  \\\n",
      "count  177.000000  177.000000  177.000000  177.000000  177.000000  177.000000   \n",
      "mean     1.340169    2.063446    2.522938    0.272090    0.447006    0.549153   \n",
      "std      2.424738    2.210968    4.342683    0.155021    1.177845    2.113822   \n",
      "min      0.000000    0.000000    0.000000    0.000000    0.000000    0.000000   \n",
      "25%      0.000000    0.720000    0.000000    0.160000    0.000000    0.000000   \n",
      "50%      0.520000    1.530000    0.000000    0.250000    0.010000    0.000000   \n",
      "75%      1.520000    2.190000    2.170000    0.350000    0.070000    0.010000   \n",
      "max     12.700000   13.860000   15.910000    0.880000    6.850000   19.040000   \n",
      "\n",
      "             Fark     Google+   NowPublic  news.ycombinator.com   Delicious  \\\n",
      "count  177.000000  177.000000  177.000000            177.000000  177.000000   \n",
      "mean     0.156045    0.071469    0.086667              0.044520    0.044294   \n",
      "std      0.165969    0.093518    0.218587              0.039857    0.102507   \n",
      "min      0.020000    0.000000    0.000000              0.000000    0.000000   \n",
      "25%      0.050000    0.000000    0.000000              0.020000    0.000000   \n",
      "50%      0.080000    0.000000    0.000000              0.030000    0.000000   \n",
      "75%      0.210000    0.150000    0.070000              0.060000    0.020000   \n",
      "max      1.030000    0.350000    1.570000              0.170000    0.470000   \n",
      "\n",
      "        VKontakte       Vimeo       Other  \n",
      "count  177.000000  177.000000  177.000000  \n",
      "mean     0.014633    0.012599    0.135989  \n",
      "std      0.020533    0.034772    0.438277  \n",
      "min      0.000000    0.000000    0.000000  \n",
      "25%      0.000000    0.000000    0.000000  \n",
      "50%      0.010000    0.000000    0.010000  \n",
      "75%      0.020000    0.020000    0.030000  \n",
      "max      0.150000    0.420000    2.570000  \n",
      "Date                    0\n",
      "Facebook                0\n",
      "Pinterest               0\n",
      "Twitter                 0\n",
      "StumbleUpon             0\n",
      "reddit                  0\n",
      "Tumblr                  0\n",
      "YouTube                 0\n",
      "Instagram               0\n",
      "LinkedIn                0\n",
      "Digg                    0\n",
      "MySpace                 0\n",
      "Fark                    0\n",
      "Google+                 0\n",
      "NowPublic               0\n",
      "news.ycombinator.com    0\n",
      "Delicious               0\n",
      "VKontakte               0\n",
      "Vimeo                   0\n",
      "Other                   0\n",
      "dtype: int64\n"
     ]
    },
    {
     "data": {
      "application/vnd.jupyter.widget-view+json": {
       "model_id": "7595b5cb289a4d5a8b16e580627b4813",
       "version_major": 2,
       "version_minor": 0
      },
      "text/plain": [
       "Dropdown(description='Platform:', options=('Facebook', 'Pinterest', 'Twitter', 'StumbleUpon', 'reddit', 'Tumbl…"
      ]
     },
     "metadata": {},
     "output_type": "display_data"
    }
   ],
   "source": [
    "# Select all records from the 'us_social_media' table\n",
    "df1 = pd.read_sql_query(\"SELECT * FROM us_social_media\", engine)\n",
    "\n",
    "# Print the first 5 rows of the dataframe\n",
    "print(df1.head())\n",
    "\n",
    "# Print the statistical summary of the dataframe\n",
    "print(df1.describe())\n",
    "\n",
    "# Print the number of missing values in each column\n",
    "print(df1.isnull().sum())\n",
    "\n",
    "import matplotlib.pyplot as plt\n",
    "import ipywidgets as widgets\n",
    "from IPython.display import display\n",
    "\n",
    "# Create a dropdown menu\n",
    "dropdown = widgets.Dropdown(\n",
    "    options=['Facebook', 'Pinterest', 'Twitter', 'StumbleUpon', 'reddit', 'Tumblr', 'YouTube', 'Instagram', 'LinkedIn', 'Digg', 'MySpace', 'Fark', 'Google+', 'NowPublic', 'news.ycombinator.com', 'Delicious', 'VKontakte', 'Vimeo', 'Other'],\n",
    "    value='Facebook',\n",
    "    description='Platform:',\n",
    ")\n",
    "\n",
    "# Function to plot data\n",
    "def plot_data(platform):\n",
    "    plt.figure(figsize=(10,6))\n",
    "    plt.plot(pd.to_datetime(df1['Date']), df1[platform])\n",
    "    plt.title(f'{platform} Popularity Over Time')\n",
    "    plt.xlabel('Date')\n",
    "    plt.ylabel('Popularity')\n",
    "    plt.show()\n",
    "\n",
    "# Function to handle changes in the dropdown menu\n",
    "def on_change(change):\n",
    "    if change['type'] == 'change' and change['name'] == 'value':\n",
    "        plot_data(change['new'])\n",
    "\n",
    "dropdown.observe(on_change)\n",
    "\n",
    "display(dropdown)"
   ]
  },
  {
   "cell_type": "code",
   "execution_count": null,
   "metadata": {},
   "outputs": [
    {
     "name": "stdout",
     "output_type": "stream",
     "text": [
      " * Serving Flask app '__main__'\n",
      " * Debug mode: on\n"
     ]
    },
    {
     "name": "stderr",
     "output_type": "stream",
     "text": [
      "WARNING: This is a development server. Do not use it in a production deployment. Use a production WSGI server instead.\n",
      " * Running on http://127.0.0.1:5000\n",
      "Press CTRL+C to quit\n",
      " * Restarting with watchdog (fsevents)\n",
      "Traceback (most recent call last):\n",
      "  File \"/opt/anaconda3/lib/python3.11/site-packages/ipykernel_launcher.py\", line 15, in <module>\n",
      "    from ipykernel import kernelapp as app\n",
      "  File \"/opt/anaconda3/lib/python3.11/site-packages/ipykernel/__init__.py\", line 7, in <module>\n",
      "    from .connect import *\n",
      "  File \"/opt/anaconda3/lib/python3.11/site-packages/ipykernel/connect.py\", line 12, in <module>\n",
      "    import jupyter_client\n",
      "  File \"/opt/anaconda3/lib/python3.11/site-packages/jupyter_client/__init__.py\", line 3, in <module>\n",
      "    from .asynchronous import AsyncKernelClient\n",
      "  File \"/opt/anaconda3/lib/python3.11/site-packages/jupyter_client/asynchronous/__init__.py\", line 1, in <module>\n",
      "    from .client import AsyncKernelClient  # noqa\n",
      "    ^^^^^^^^^^^^^^^^^^^^^^^^^^^^^^^^^^^^^\n",
      "  File \"/opt/anaconda3/lib/python3.11/site-packages/jupyter_client/asynchronous/client.py\", line 11, in <module>\n",
      "    from ..channels import AsyncZMQSocketChannel, HBChannel\n",
      "  File \"/opt/anaconda3/lib/python3.11/site-packages/jupyter_client/channels.py\", line 12, in <module>\n",
      "    from jupyter_core.utils import ensure_async\n",
      "  File \"/opt/anaconda3/lib/python3.11/site-packages/jupyter_core/utils/__init__.py\", line 13, in <module>\n",
      "    from pathlib import Path\n",
      "  File \"/opt/anaconda3/lib/python3.11/site-packages/pathlib.py\", line 10, in <module>\n",
      "    from collections import Sequence\n",
      "ImportError: cannot import name 'Sequence' from 'collections' (/opt/anaconda3/lib/python3.11/collections/__init__.py)\n"
     ]
    },
    {
     "ename": "SystemExit",
     "evalue": "1",
     "output_type": "error",
     "traceback": [
      "An exception has occurred, use %tb to see the full traceback.\n",
      "\u001b[0;31mSystemExit\u001b[0m\u001b[0;31m:\u001b[0m 1\n"
     ]
    },
    {
     "name": "stderr",
     "output_type": "stream",
     "text": [
      "/opt/anaconda3/lib/python3.11/site-packages/IPython/core/interactiveshell.py:3561: UserWarning: To exit: use 'exit', 'quit', or Ctrl-D.\n",
      "  warn(\"To exit: use 'exit', 'quit', or Ctrl-D.\", stacklevel=1)\n"
     ]
    }
   ],
   "source": [
    "from flask import Flask, jsonify, render_template_string\n",
    "from sqlalchemy import create_engine\n",
    "import pandas as pd\n",
    "import plotly.express as px\n",
    "import plotly.io as pio\n",
    "\n",
    "app = Flask(__name__)\n",
    "\n",
    "# Create a SQLAlchemy engine\n",
    "engine = create_engine('sqlite:///social_media_data.db')\n",
    "\n",
    "# Load the data when the application starts\n",
    "df1 = pd.read_sql_query(\"SELECT * FROM us_social_media\", engine)\n",
    "df2 = pd.read_sql_query(\"SELECT * FROM google_trends\", engine)\n",
    "\n",
    "@app.route(\"/api/v1.0/us_social_media\")\n",
    "def us_social_media():\n",
    "    # Convert dataframe to dictionary\n",
    "    data = df1.to_dict(orient='records')\n",
    "    return jsonify(data)\n",
    "\n",
    "@app.route(\"/api/v1.0/google_trends\")\n",
    "def google_trends():\n",
    "    # Convert dataframe to dictionary\n",
    "    data = df2.to_dict(orient='records')\n",
    "    return jsonify(data)\n",
    "\n",
    "@app.route(\"/plot\")\n",
    "def plot():\n",
    "    # Create a simple line plot\n",
    "    fig = px.line(df1, x='Date', y='Facebook')\n",
    "    # Convert the plot to HTML\n",
    "    plot_html = pio.to_html(fig, full_html=False)\n",
    "    # Return the plot as HTML\n",
    "    return render_template_string(\"<html><body>{{plot}}</body></html>\", plot=plot_html)\n",
    "\n",
    "if __name__ == '__main__':\n",
    "    app.run(debug=True)"
   ]
  },
  {
   "cell_type": "code",
   "execution_count": null,
   "metadata": {},
   "outputs": [],
   "source": []
  }
 ],
 "metadata": {
  "kernelspec": {
   "display_name": "env_api",
   "language": "python",
   "name": "env_api"
  },
  "language_info": {
   "codemirror_mode": {
    "name": "ipython",
    "version": 3
   },
   "file_extension": ".py",
   "mimetype": "text/x-python",
   "name": "python",
   "nbconvert_exporter": "python",
   "pygments_lexer": "ipython3",
   "version": "3.1.undefined"
  }
 },
 "nbformat": 4,
 "nbformat_minor": 2
}
