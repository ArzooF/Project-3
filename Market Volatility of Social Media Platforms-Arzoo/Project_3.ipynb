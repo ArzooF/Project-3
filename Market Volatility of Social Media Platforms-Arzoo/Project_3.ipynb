{
 "cells": [
  {
   "cell_type": "code",
   "execution_count": 6,
   "id": "9c38d4f2-c3cc-4dd1-ae80-5dd014351862",
   "metadata": {},
   "outputs": [],
   "source": [
    "import psycopg2\n",
    "import pandas as pd\n",
    "# Establish a connection to the PostgreSQL database\n",
    "conn = psycopg2.connect(\n",
    "    dbname=\"Project_3\",\n",
    "    user=\"postgres\",\n",
    "    password=\"postgresql123\",\n",
    "    host=\"localhost\",\n",
    "    port=\"5432\"\n",
    ")"
   ]
  },
  {
   "cell_type": "code",
   "execution_count": 7,
   "id": "8c7a88b4-7b6b-400d-a4f8-5b8d50aecd2e",
   "metadata": {},
   "outputs": [
    {
     "name": "stdout",
     "output_type": "stream",
     "text": [
      "        date  facebook  printest  twitter  stumbleupon  youtube  instagram  \\\n",
      "0    2009-04     20.16      0.00     6.86        36.79     0.00       0.00   \n",
      "1    2009-05     24.30      0.00     9.95        33.78     0.00       0.00   \n",
      "2    2009-06     26.48      0.00    10.56        29.65     0.00       0.00   \n",
      "3    2009-07     29.10      0.00    10.35        33.55     0.00       0.00   \n",
      "4    2009-08     34.25      0.00    11.15        29.01     0.00       0.00   \n",
      "..       ...       ...       ...      ...          ...      ...        ...   \n",
      "173  2023-09     65.24      7.28     8.75         0.00     4.00      13.31   \n",
      "174  2023-10     65.15      8.47     8.75         0.01     4.43      12.05   \n",
      "175  2023-11     63.56     10.02     8.49         0.00     5.02      11.38   \n",
      "176  2023-12     64.79      9.97     7.75         0.00     5.88      10.03   \n",
      "177  2009-03      0.00      0.00     0.00         0.00     0.00       0.00   \n",
      "\n",
      "     tumbler  reddit  vkontakte  ...  myspace  fark  nowpublic  iwiw  \\\n",
      "0       0.00    8.98       0.00  ...    14.81  0.22       0.04  0.29   \n",
      "1       0.00    7.62       0.00  ...     8.95  0.44       0.05  2.10   \n",
      "2       0.00   12.13       0.00  ...     7.66  0.66       0.05  2.35   \n",
      "3       0.00    9.52       0.00  ...     5.49  0.22       0.03  2.21   \n",
      "4       0.00    9.37       0.00  ...     4.69  0.40       0.08  2.27   \n",
      "..       ...     ...        ...  ...      ...   ...        ...   ...   \n",
      "173     0.20    0.52       0.22  ...     0.00  0.02       0.00  0.00   \n",
      "174     0.21    0.37       0.07  ...     0.00  0.02       0.00  0.00   \n",
      "175     0.24    0.64       0.08  ...     0.00  0.02       0.00  0.00   \n",
      "176     0.22    0.70       0.07  ...     0.00  0.03       0.00  0.00   \n",
      "177     0.00    0.00       0.00  ...     0.00  0.00       0.00  0.00   \n",
      "\n",
      "     news.ycombinator.com  delicious  orkut  odnoklassniki  vimeo  other  \n",
      "0                    0.08       0.49   1.75            0.0    0.0   2.83  \n",
      "1                    0.12       0.57   1.77            0.0    0.0   2.72  \n",
      "2                    0.11       0.58   1.46            0.0    0.0   1.93  \n",
      "3                    0.14       0.55   1.24            0.0    0.0   1.84  \n",
      "4                    0.08       0.52   1.27            0.0    0.0   1.90  \n",
      "..                    ...        ...    ...            ...    ...    ...  \n",
      "173                  0.00       0.00   0.00            0.0    0.0   0.01  \n",
      "174                  0.00       0.00   0.00            0.0    0.0   0.00  \n",
      "175                  0.00       0.00   0.00            0.0    0.0   0.00  \n",
      "176                  0.01       0.00   0.00            0.0    0.0   0.00  \n",
      "177                  0.00       0.00   0.00            0.0    0.0   0.00  \n",
      "\n",
      "[178 rows x 23 columns]\n"
     ]
    },
    {
     "name": "stderr",
     "output_type": "stream",
     "text": [
      "C:\\Users\\Arzoo\\AppData\\Local\\Temp\\ipykernel_22880\\3541085014.py:5: UserWarning: pandas only supports SQLAlchemy connectable (engine/connection) or database string URI or sqlite3 DBAPI2 connection. Other DBAPI2 objects are not tested. Please consider using SQLAlchemy.\n",
      "  df = pd.read_sql_query(query, conn)\n"
     ]
    }
   ],
   "source": [
    "# Write your SQL query\n",
    "query = \"SELECT * FROM social_media_popularity;\"\n",
    "\n",
    "# Execute the query and load the results into a DataFrame\n",
    "df = pd.read_sql_query(query, conn)\n",
    "\n",
    "# Print the DataFrame\n",
    "print(df)"
   ]
  },
  {
   "cell_type": "code",
   "execution_count": 12,
   "id": "23dbb274-bb2b-4d55-9515-2797caad8149",
   "metadata": {},
   "outputs": [],
   "source": [
    "import psycopg2\n",
    "import pandas as pd\n",
    "# Establish a connection to the PostgreSQL database\n",
    "conn = psycopg2.connect(\n",
    "    dbname=\"US_SOCIAL_MEDIA_POPULARITY\",\n",
    "    user=\"postgres\",\n",
    "    password=\"postgresql123\",\n",
    "    host=\"localhost\",\n",
    "    port=\"5432\"\n",
    ")"
   ]
  },
  {
   "cell_type": "code",
   "execution_count": 13,
   "id": "0d7403b2-c6e4-484e-9cd7-d0568218986d",
   "metadata": {},
   "outputs": [
    {
     "name": "stdout",
     "output_type": "stream",
     "text": [
      "        date  facebook  printest  twitter  stumbleupon  reddit  tumbler  \\\n",
      "0    2009-04     12.89      0.00     6.69        42.45    9.83     0.00   \n",
      "1    2009-05     15.88      0.00    10.45        42.55    9.10     0.00   \n",
      "2    2009-06     17.02      0.00    11.25        38.08   14.80     0.00   \n",
      "3    2009-07     19.08      0.00    10.55        43.41   11.64     0.00   \n",
      "4    2009-08     24.45      0.00    11.37        38.84   11.85     0.00   \n",
      "..       ...       ...       ...      ...          ...     ...      ...   \n",
      "349  2023-08     49.90     14.69    14.63         0.00    1.66     0.26   \n",
      "350  2023-09     49.56     16.66    14.67         0.01    1.18     0.24   \n",
      "351  2023-10     47.96     20.13    13.81         0.01    0.70     0.25   \n",
      "352  2023-11     41.98     25.66    13.43         0.00    1.45     0.27   \n",
      "353  2023-12     47.74     25.52    11.56         0.00    1.48     0.24   \n",
      "\n",
      "     youtube  instagram  linkedin  digg  myspace  fark  Google+  nowpublic  \\\n",
      "0       0.00       0.00      0.00  6.02    19.04  0.30      0.0       0.03   \n",
      "1       0.00       0.00      0.27  6.85    11.06  0.65      0.0       0.04   \n",
      "2       0.00       0.00      0.50  5.17     9.46  1.03      0.0       0.05   \n",
      "3       0.00       0.00      0.40  5.05     6.86  0.34      0.0       0.05   \n",
      "4       0.00       0.00      0.45  3.92     5.85  0.64      0.0       0.08   \n",
      "..       ...        ...       ...   ...      ...   ...      ...        ...   \n",
      "349     2.29      15.85      0.62  0.00     0.00  0.08      0.0       0.00   \n",
      "350     2.02      14.96      0.61  0.00     0.00  0.05      0.0       0.00   \n",
      "351     2.27      14.04      0.74  0.00     0.00  0.07      0.0       0.00   \n",
      "352     2.28      13.98      0.87  0.00     0.00  0.07      0.0       0.00   \n",
      "353     2.11      10.36      0.88  0.00     0.00  0.09      0.0       0.00   \n",
      "\n",
      "     news.ycombinator.com  delicious  vkontakte  vimeo  other  \n",
      "0                    0.08       0.38       0.00    0.0   2.30  \n",
      "1                    0.12       0.46       0.00    0.0   2.57  \n",
      "2                    0.12       0.47       0.00    0.0   2.06  \n",
      "3                    0.15       0.43       0.00    0.0   2.04  \n",
      "4                    0.09       0.41       0.00    0.0   2.06  \n",
      "..                    ...        ...        ...    ...    ...  \n",
      "349                  0.00       0.00       0.01    0.0   0.00  \n",
      "350                  0.00       0.00       0.03    0.0   0.01  \n",
      "351                  0.00       0.00       0.01    0.0   0.00  \n",
      "352                  0.00       0.00       0.01    0.0   0.00  \n",
      "353                  0.01       0.00       0.01    0.0   0.00  \n",
      "\n",
      "[354 rows x 20 columns]\n"
     ]
    },
    {
     "name": "stderr",
     "output_type": "stream",
     "text": [
      "C:\\Users\\Arzoo\\AppData\\Local\\Temp\\ipykernel_22880\\3073819510.py:5: UserWarning: pandas only supports SQLAlchemy connectable (engine/connection) or database string URI or sqlite3 DBAPI2 connection. Other DBAPI2 objects are not tested. Please consider using SQLAlchemy.\n",
      "  us_df = pd.read_sql_query(query, conn)\n"
     ]
    }
   ],
   "source": [
    "# Write your SQL query\n",
    "query = \"SELECT * FROM us_social_media_popularity;\"\n",
    "\n",
    "# Execute the query and load the results into a DataFrame\n",
    "us_df = pd.read_sql_query(query, conn)\n",
    "\n",
    "# Print the DataFrame\n",
    "print(us_df)"
   ]
  },
  {
   "cell_type": "code",
   "execution_count": null,
   "id": "d54e6daf-075d-4a5b-ac62-7e2ae93093c5",
   "metadata": {},
   "outputs": [],
   "source": [
    "# Import the Dependencies for statistical analysis\n"
   ]
  }
 ],
 "metadata": {
  "kernelspec": {
   "display_name": "Python 3 (ipykernel)",
   "language": "python",
   "name": "python3"
  },
  "language_info": {
   "codemirror_mode": {
    "name": "ipython",
    "version": 3
   },
   "file_extension": ".py",
   "mimetype": "text/x-python",
   "name": "python",
   "nbconvert_exporter": "python",
   "pygments_lexer": "ipython3",
   "version": "3.11.7"
  }
 },
 "nbformat": 4,
 "nbformat_minor": 5
}
